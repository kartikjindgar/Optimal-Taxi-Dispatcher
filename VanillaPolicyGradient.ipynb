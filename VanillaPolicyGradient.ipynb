{
  "cells": [
    {
      "cell_type": "code",
      "execution_count": 10,
      "metadata": {
        "id": "VVGMjBy01myA"
      },
      "outputs": [],
      "source": [
        "import sys\n",
        "import numpy as np\n",
        "import random\n",
        "\n",
        "import torch\n",
        "import torch.nn as nn\n",
        "import torch.optim as optim\n",
        "import torch.nn.functional as F\n",
        "from torch.distributions import Bernoulli, Normal\n",
        "import numpy as np\n",
        "import pandas as pd\n",
        "import matplotlib.pyplot as plt\n",
        "\n",
        "# import gymnasium as gym\n",
        "\n",
        "from PIL import Image\n",
        "\n",
        "from time import sleep\n",
        "\n",
        "from pathlib import Path\n",
        "\n",
        "\n",
        "# code for the only two actions in Pong\n",
        "# 2 -> UP, 3 -> DOWN\n",
        "ACTIONS = [2, 3]"
      ]
    },
    {
      "cell_type": "code",
      "execution_count": 11,
      "metadata": {
        "colab": {
          "base_uri": "https://localhost:8080/"
        },
        "id": "iPNb65N31ose",
        "outputId": "048cd2d3-4113-40c1-8c84-9aa9e7dbd67a"
      },
      "outputs": [
        {
          "output_type": "stream",
          "name": "stdout",
          "text": [
            "/content/drive/MyDrive/RLProject2023\n"
          ]
        }
      ],
      "source": [
        "cd /content/drive/MyDrive/RLProject2023"
      ]
    },
    {
      "cell_type": "markdown",
      "metadata": {
        "id": "BBCQbFnj3dpj"
      },
      "source": [
        "## Helper Functions"
      ]
    },
    {
      "cell_type": "code",
      "execution_count": 51,
      "metadata": {
        "id": "iMnhe8Bw23_i"
      },
      "outputs": [],
      "source": [
        "def discount_rewards(reward):\n",
        "    # Compute the gamma-discounted rewards over an episode\n",
        "    gamma = 0.99    # discount rate\n",
        "    running_add = 0\n",
        "    discounted_r = torch.zeros_like(reward)\n",
        "\n",
        "    for i in reversed(range(0, len(reward))):\n",
        "        if reward[i] != 0: # reset the sum, since this was a game boundary (pong specific!)\n",
        "            running_add = 0\n",
        "        running_add = running_add * gamma + reward[i]\n",
        "        discounted_r[i] = running_add\n",
        "\n",
        "    discounted_r -= torch.mean(discounted_r) # normalizing the result\n",
        "    discounted_r /= torch.std(discounted_r) # divide by standard deviation\n",
        "    return discounted_r\n",
        "\n",
        "\n",
        "def log(filename, string):\n",
        "    with open(filename, 'a+') as logger:\n",
        "        logger.write(string)\n",
        "\n",
        "def update_demand(pt, at):\n",
        "    '''\n",
        "    Parameters:\n",
        "    pt - Number of passengers who want to go from zone i to j - NxN matrix in timepoint t \n",
        "    new_pt - New Demand generated for timepoint t+1 - NxN matrix \n",
        "    at - Agents action, cabs displaced to satisfy demand from zone i to j - NxN matrix \n",
        "    \n",
        "    Returns: \n",
        "    unsatisfied_pt - Unsatisfied demand to be carried forward  \n",
        "    '''\n",
        "    unsatisfied_pt = pt - at \n",
        "    unsatisfied_pt[unsatisfied_pt<0] = 0 \n",
        "    \n",
        "    return unsatisfied_pt\n",
        "\n",
        "def update_supply(pt,vt, frozen, times, at):\n",
        "    '''\n",
        "    Parameters: \n",
        "    vt - Number of empty vehicles in each zone at time t - Nx1 vector \n",
        "    frozen - Nxt matrix with rows as destination and columns as remaining timesteps of journey \n",
        "        fjk: the number of cabs on a journey with destination j and timepoint k remaining \n",
        "    times - NxN matrix of time a trip from i to j will take \n",
        "    at - Agents action, cabs displaced to satisfy demand from zone i to j - NxN matrix\n",
        "    \n",
        "    Returns: \n",
        "    vt_next - Number of empty vehicles in each zone at time t+1 \n",
        "    frozen_next - Updated frozen vehicle matrix \n",
        "    '''\n",
        "    num_zones = frozen.shape[0]\n",
        "    extra_vt = at - pt \n",
        "    extra_vt[extra_vt<0]=0\n",
        "    extra_vt = np.sum(extra_vt, axis = 1) \n",
        "\n",
        "    for i in range(num_zones):\n",
        "        for j in range(num_zones):\n",
        "            frozen[j, times[i,j]-1] = at[i,j]\n",
        "    return extra_vt, frozen\n",
        "\n",
        "\n",
        "def get_reward(pt, vt, at):\n",
        "    yt = np.minimum(at, pt)\n",
        "    reward = -1 * np.sum((pt-yt)*wait_cost + (at-yt)*move_cost)\n",
        "    return reward \n",
        "    "
      ]
    },
    {
      "cell_type": "markdown",
      "metadata": {
        "id": "uGvdnXUR3iDe"
      },
      "source": [
        "## Actor Critic Models"
      ]
    },
    {
      "cell_type": "code",
      "execution_count": 108,
      "metadata": {
        "id": "2hJFaHK93fxm"
      },
      "outputs": [],
      "source": [
        "class Actor(nn.Module):\n",
        "    def __init__(self, input_size, action_size):\n",
        "        super(Actor, self).__init__()\n",
        "\n",
        "        self.fc1 = nn.Linear(input_size, 128)\n",
        "        self.fc2 = nn.Linear(128, 128)\n",
        "        self.fc3 = nn.Linear(128, 128)\n",
        "        self.output = nn.Linear(128, action_size)\n",
        "    \n",
        "    def forward(self, x):\n",
        "\n",
        "        x = F.relu(self.fc1(x))\n",
        "        x = F.relu(self.fc2(x))\n",
        "        x = F.relu(self.fc3(x))\n",
        "        action_mu = self.output(x)\n",
        "        return action_mu\n",
        "\n",
        "\n",
        "class A2CAgent(object):\n",
        "    def __init__(self, input_size, log_filename):\n",
        "        num_of_zones=6\n",
        "        self.actor = Actor(input_size, num_of_zones*num_of_zones) #for 6x6 connections\n",
        "        # self.critic = Critic(input_size)\n",
        "        self.optimizerA = optim.SGD(self.actor.parameters(), lr=0.001, weight_decay=0.99)\n",
        "        # self.optimizerC = optim.RMSprop(self.critic.parameters(), lr=0.001, weight_decay=0.99)\n",
        "\n",
        "        self.memory = {\n",
        "            'rewards': [],\n",
        "            'log_probs': [],\n",
        "            'states': []\n",
        "        }\n",
        "        self.epoch = 0\n",
        "\n",
        "        self.log_filename = log_filename\n",
        "    \n",
        "    def select_action(self, state, available_cabs):\n",
        "        num_of_zones=6\n",
        "\n",
        "        # sample an action from stochastic policy\n",
        "        action_mu = self.actor.forward(state)\n",
        "        \n",
        "        dist = Normal(action_mu,torch.ones(action_mu.size(dim=0)))\n",
        "        sampled_val = dist.sample()\n",
        "        self.memory['log_probs'].append(torch.sum(dist.log_prob(sampled_val)))\n",
        "\n",
        "        sampled_val = sampled_val.numpy()\n",
        "        actions= np.zeros((num_of_zones,num_of_zones))\n",
        "        for i in range(num_of_zones):\n",
        "          zone = np.abs(sampled_val[i*num_of_zones:(i+1)*num_of_zones])\n",
        "          zone = zone/np.sum(zone)\n",
        "          actions[i,:] = zone*available_cabs[i]\n",
        "\n",
        "        return actions #6x6 matrix with rows as source and columns as destination\n",
        "\n",
        "\n",
        "    def remember(self, state, reward):\n",
        "        self.memory['states'].append(state)\n",
        "        self.memory['rewards'].append(reward)\n",
        "    \n",
        "\n",
        "    def update_network(self):\n",
        "        len_r = len(self.memory['rewards'])\n",
        "        assert len_r == len(self.memory['log_probs'])\n",
        "\n",
        "        # convert to tensors for ease of operation\n",
        "        self.memory['rewards'] = torch.tensor(self.memory['rewards'], dtype=torch.float32)\n",
        "        discounted_r = discount_rewards(self.memory['rewards']).unsqueeze(1)\n",
        "        self.memory['log_probs'] = torch.stack(self.memory['log_probs'])\n",
        "\n",
        "        policy_losses = (-1 * self.memory['log_probs']) * discounted_r\n",
        "\n",
        "        # crux of training\n",
        "        self.optimizerA.zero_grad()\n",
        "        self.lossA = policy_losses.sum()\n",
        "        self.lossA.backward()\n",
        "        self.optimizerA.step()\n",
        "\n",
        "        # reset memory because this is on-policy\n",
        "        for k in self.memory.keys():\n",
        "            self.memory[k] = []\n",
        "    \n",
        " \n",
        "    def learn(self, master_pt,wait_cost,move_cost, times,num_epochs, roll_size, start=0):\n",
        "\n",
        "        print(f\"Resuming from {start + 1}, Writing to {self.log_filename}\\n\")\n",
        "\n",
        "        assert roll_size == 10\n",
        "\n",
        "        avg = -float('inf')\n",
        "        best_avg = -float('inf')\n",
        "        max_score = -float('inf')\n",
        "        all_scores = np.zeros((num_epochs, ), dtype=np.int32)\n",
        "\n",
        "        timestep = 0\n",
        "\n",
        "        for eps_idx in range(start + 1, num_epochs):\n",
        "            print(\"timestep\",timestep)\n",
        "            self.epoch = eps_idx\n",
        "            num_zones = 6\n",
        "            max_time = 4\n",
        "            num_cabs = 1500\n",
        "            timestep_per_episode =48\n",
        "            # beginning of an episode\n",
        "            #48 timesteps in 1 episode (day)\n",
        "            state=np.zeros((num_zones,num_zones))\n",
        "            available_cabs = np.array([num_cabs//num_zones]*num_zones)\n",
        "            frozen = np.zeros((num_zones,max_time))\n",
        "            # state = env.reset()\n",
        "            score = 0\n",
        "            done=False\n",
        "            \n",
        "            # print(\"done-\",done)\n",
        "            while not done:\n",
        "                #get new demand\n",
        "                state += master_pt[:,:, timestep]\n",
        "                # state = state.flatten()\n",
        "                state_tensor = torch.tensor(state.flatten(), dtype=torch.float32)\n",
        "                \n",
        "                #unfreeze cabs\n",
        "                available_cabs = available_cabs + frozen[:,0]\n",
        "                frozen[:,0]=0\n",
        "                frozen = np.roll(frozen, -1, axis = 1)\n",
        "                \n",
        "                #take action\n",
        "                action = self.select_action(state_tensor, available_cabs)\n",
        "                \n",
        "                #computing reward\n",
        "                reward = get_reward(state, available_cabs, action)\n",
        "\n",
        "                #storing in memory\n",
        "                self.remember(state, reward)\n",
        "\n",
        "                #updating supply\n",
        "                available_cabs, frozen = update_supply(state, available_cabs, frozen, times, action)\n",
        "                \n",
        "                # updaating demand\n",
        "                state = update_demand(state, action)\n",
        "                \n",
        "                # next_state, reward, done, _ = env.step(action)\n",
        "                # next_state = torch.tensor(next_state, dtype=torch.float32)\n",
        "\n",
        "                score += reward\n",
        "                timestep = (timestep+1)%1488\n",
        "                done = True if timestep%timestep_per_episode==0 else False #48 timesteps in one episode\n",
        "\n",
        "            # bookkeeping of stats\n",
        "            all_scores[eps_idx] = score\n",
        "            if score > max_score:\n",
        "                max_score = score\n",
        "\n",
        "            sys.stdout.write(f\"\\r [{eps_idx}]: {score}, Avg: {avg:.2f}, Max: {max_score}, Best_avg: {best_avg:.2f}\")\n",
        "            sys.stdout.flush()\n",
        "            \n",
        "            if ((eps_idx + 1) % roll_size) == 0:\n",
        "                avg = np.mean(all_scores[(eps_idx + 1) - roll_size:eps_idx])\n",
        "                if avg > best_avg:\n",
        "                    best_avg = avg\n",
        "                    self.save(eps_idx, \"checkpoint_bestavg\")\n",
        "\n",
        "                # print(f\"\\n [{eps_idx}]: {score}, Avg: {avg:.2f}, Max: {max_score}, Best_avg: {best_avg:.2f}\")\n",
        "                stat_string = f\" [{eps_idx}]: {score}, Avg: {avg:.2f}, Max: {max_score}, Best_avg: {best_avg:.2f}\\n\"\n",
        "                log(self.log_filename, stat_string)\n",
        "                self.save(eps_idx, \"pong_checkpoint_latest\")\n",
        "\n",
        "                np.save('checkpoints/all_scores.npy', all_scores, allow_pickle=False)\n",
        "            \n",
        "            # train every 10 episodes\n",
        "            if ((eps_idx + 1) % 10) == 0:\n",
        "                self.update_network()\n",
        "            \n",
        "            # graph the scores every 100 eps\n",
        "            if ((eps_idx + 1) % 100) == 0:\n",
        "                pass\n",
        "        \n",
        "        avg = np.mean(all_scores)\n",
        "        max_score = np.max(all_scores)\n",
        "        print(f\"\\n [{eps_idx}]: {score}, Avg: {avg:.2f}, Max: {max_score}, Best_avg: {best_avg:.2f}\")\n",
        "\n",
        "    def save(self, epoch, path):\n",
        "        save_dir = 'checkpoints/'\n",
        "        path = save_dir + path + \".pt\"\n",
        "\n",
        "        Path(save_dir).mkdir(exist_ok=True)\n",
        "\n",
        "        try:\n",
        "            lossA = self.lossA\n",
        "            # lossC = self.lossC\n",
        "        except AttributeError:\n",
        "            lossA = None\n",
        "            # lossC = None\n",
        "\n",
        "        torch.save(\n",
        "            {\n",
        "                'epoch': epoch,\n",
        "                'actor_state_dict': self.actor.state_dict(),\n",
        "                # 'critic_state_dict': self.critic.state_dict(),\n",
        "                'optimizerA_state_dict': self.optimizerA.state_dict(),\n",
        "                # 'optimizerC_state_dict': self.optimizerC.state_dict(),\n",
        "                'lossA': lossA,\n",
        "                # 'lossC': lossC,\n",
        "            },\n",
        "            path\n",
        "        )\n",
        "\n",
        "    def load(self, path):\n",
        "        save_dir = 'checkpoints/'\n",
        "        path = save_dir + path + \".pt\"\n",
        "\n",
        "        checkpoint = torch.load(path)\n",
        "\n",
        "        epoch = checkpoint['epoch']\n",
        "        self.actor.load_state_dict(checkpoint['actor_state_dict'])\n",
        "        # self.critic.load_state_dict(checkpoint['critic_state_dict'])\n",
        "        self.optimizerA.load_state_dict(checkpoint['optimizerA_state_dict'])\n",
        "        # self.optimizerC.load_state_dict(checkpoint['optimizerC_state_dict'])\n",
        "\n",
        "        return epoch"
      ]
    },
    {
      "cell_type": "markdown",
      "metadata": {
        "id": "4_a58C_E3xMe"
      },
      "source": [
        "## Driver"
      ]
    },
    {
      "cell_type": "code",
      "source": [
        "times = np.array([[1,2,3,2,3,4,3,4,5,4,5,6,5,6,7,6,7,8,7,8,9,8,9,10],\n",
        "                  [2,1,2,3,2,3,4,3,4,5,4,5,6,5,6,7,6,7,8,7,8,9,8,9],\n",
        "                  [3,2,1,4,3,2,5,4,3,6,5,4,7,6,5,8,7,6,9,8,7,10,9,8],\n",
        "                  [2,3,4,1,2,3,2,3,4,3,4,5,4,5,6,5,6,7,6,7,8,7,8,9],\n",
        "                  [3,2,3,2,1,2,3,2,3,4,3,4,5,4,5,6,5,6,7,6,7,8,7,8],\n",
        "                  [4,3,2,3,2,1,4,3,2,5,4,3,6,5,4,7,6,5,8,7,6,9,8,7],\n",
        "                  [3,4,5,2,3,4,1,2,3,2,3,4,3,4,5,4,5,6,5,6,7,6,7,8],\n",
        "                  [4,3,4,3,2,3,2,1,2,3,2,3,4,3,4,5,4,5,6,5,6,7,6,7],\n",
        "                  [5,4,3,4,3,2,3,2,1,4,3,2,5,4,3,6,5,4,7,6,5,8,7,6],\n",
        "                  [4,5,6,3,4,5,2,3,4,1,2,3,2,3,4,3,4,5,4,5,6,5,6,7],\n",
        "                  [5,4,5,4,3,4,3,2,3,2,1,2,3,2,3,4,3,4,5,4,5,6,5,6],\n",
        "                  [6,5,4,5,4,3,4,3,2,3,2,1,4,3,2,5,4,3,6,5,4,7,6,5],\n",
        "                  [5,6,7,4,5,6,3,4,5,2,3,4,1,2,3,2,3,4,3,4,5,4,5,6],\n",
        "                  [6,5,6,5,4,5,4,3,4,3,2,3,2,1,2,3,2,3,4,3,4,5,4,5],\n",
        "                  [7,6,5,6,5,4,5,4,3,4,3,2,3,2,1,4,3,2,5,4,3,6,5,4],\n",
        "                  [6,7,8,5,6,7,4,5,6,3,4,5,2,3,4,1,2,3,2,3,4,3,4,5],\n",
        "                  [7,6,7,6,5,6,5,4,5,4,3,4,3,2,3,2,1,2,3,2,3,4,3,4],\n",
        "                  [8,7,6,7,6,5,6,5,4,5,4,3,4,3,2,3,2,1,4,3,2,5,4,3],\n",
        "                  [7,8,9,6,7,8,5,6,7,4,5,6,3,4,5,2,3,4,1,2,3,2,3,4],\n",
        "                  [8,7,8,7,6,7,6,5,6,5,4,5,4,3,4,3,2,3,2,1,2,3,2,3],\n",
        "                  [9,8,7,8,7,6,7,6,5,6,5,4,5,4,3,4,3,2,3,2,1,4,3,2],\n",
        "                  [8,9,10,7,8,9,6,7,8,5,6,7,4,5,6,3,4,5,2,3,4,1,2,3],\n",
        "                  [9,8,9,8,7,8,7,6,7,6,5,6,5,4,5,4,3,4,3,2,3,2,1,2],\n",
        "                  [10,9,8,9,8,7,8,7,6,7,6,5,6,5,4,5,4,3,4,3,2,3,2,1]\n",
        "                 ])\n",
        "times_small = np.array([\n",
        "                  [1,2,2,3,3,4],\n",
        "                  [2,1,3,2,4,3],\n",
        "                  [2,3,1,2,2,3],\n",
        "                  [3,2,2,1,3,2],\n",
        "                  [3,4,2,3,1,2],\n",
        "                  [4,3,3,2,2,1],\n",
        "                 ])"
      ],
      "metadata": {
        "id": "Y9cN3iRCEDSR"
      },
      "execution_count": 109,
      "outputs": []
    },
    {
      "cell_type": "code",
      "execution_count": null,
      "metadata": {
        "id": "nTsNdpR53ucW"
      },
      "outputs": [],
      "source": [
        "def driver():\n",
        "  num_of_zones=6\n",
        "  num_of_epochs=10000\n",
        "\n",
        "  master_pt_path = './RL-data/master_pt_small.npy'\n",
        "  wait_cost = np.load(\"./RL-data/wait_costs_small.npy\")\n",
        "  move_cost = np.load(\"./RL-data/move_costs_small.npy\")\n",
        "\n",
        "  master_pt = np.load(master_pt_path)\n",
        "\n",
        "  if Path('logs.txt').exists():\n",
        "      print(\"Logs already exist, appending to them.\")\n",
        "\n",
        "  agent = A2CAgent(num_of_zones*num_of_zones, 'logs.txt')\n",
        "\n",
        "  epoch_resume = -1\n",
        "  agent.learn(master_pt,wait_cost,move_cost,times_small, num_of_epochs, 10, epoch_resume)\n",
        "\n",
        "\n",
        "driver()"
      ]
    },
    {
      "cell_type": "markdown",
      "source": [
        "## Visualizing Results"
      ],
      "metadata": {
        "id": "TWynTR5MdV3D"
      }
    },
    {
      "cell_type": "code",
      "source": [
        "scores = np.load(\"./checkpoints/all_scores.npy\")\n",
        "\n",
        "index=0\n",
        "s=[]\n",
        "while index<len(scores):\n",
        "  temp =np.sum(scores[index:index+100])/100\n",
        "  index+=100\n",
        "  s.append(temp)\n",
        "plt.plot(s)"
      ],
      "metadata": {
        "id": "iQ1uUrLxM3s1"
      },
      "execution_count": null,
      "outputs": []
    },
    {
      "cell_type": "code",
      "source": [
        "plt.plot(a)"
      ],
      "metadata": {
        "colab": {
          "base_uri": "https://localhost:8080/",
          "height": 462
        },
        "id": "dF8opqlaNXH-",
        "outputId": "e78b90c6-9bd4-42f7-fa9e-b8504f1e48b6"
      },
      "execution_count": 114,
      "outputs": [
        {
          "output_type": "execute_result",
          "data": {
            "text/plain": [
              "[<matplotlib.lines.Line2D at 0x7fef9a4a35e0>]"
            ]
          },
          "metadata": {},
          "execution_count": 114
        },
        {
          "output_type": "display_data",
          "data": {
            "text/plain": [
              "<Figure size 640x480 with 1 Axes>"
            ],
            "image/png": "[encoded data removed]"
          },
          "metadata": {}
        }
      ]
    },
    {
      "cell_type": "code",
      "source": [],
      "metadata": {
        "id": "2PTwWnCxQatf"
      },
      "execution_count": null,
      "outputs": []
    }
  ],
  "metadata": {
    "colab": {
      "provenance": []
    },
    "kernelspec": {
      "display_name": "Python 3",
      "name": "python3"
    },
    "language_info": {
      "name": "python"
    }
  },
  "nbformat": 4,
  "nbformat_minor": 0
}